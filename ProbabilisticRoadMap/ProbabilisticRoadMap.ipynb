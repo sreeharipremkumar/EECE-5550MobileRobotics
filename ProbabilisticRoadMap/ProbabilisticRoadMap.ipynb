{
  "nbformat": 4,
  "nbformat_minor": 0,
  "metadata": {
    "colab": {
      "provenance": [],
      "collapsed_sections": []
    },
    "kernelspec": {
      "name": "python3",
      "display_name": "Python 3"
    },
    "language_info": {
      "name": "python"
    }
  },
  "cells": [
    {
      "cell_type": "code",
      "execution_count": 7,
      "metadata": {
        "colab": {
          "base_uri": "https://localhost:8080/"
        },
        "id": "kcHHg9ftmZF3",
        "outputId": "775bd0e6-cf52-4d3e-8ac0-f066424ab780"
      },
      "outputs": [
        {
          "output_type": "stream",
          "name": "stdout",
          "text": [
            "Drive already mounted at /content/drive; to attempt to forcibly remount, call drive.mount(\"/content/drive\", force_remount=True).\n"
          ]
        }
      ],
      "source": [
        "from PIL import Image\n",
        "import numpy as np\n",
        "from google.colab import drive\n",
        "import matplotlib.pyplot as plt\n",
        "import networkx as nx\n",
        "from networkx.drawing.nx_pylab import draw_networkx_edges\n",
        "from networkx.classes.function import get_node_attributes\n",
        "\n",
        "drive.mount('/content/drive')\n",
        "occupancy_map_img = Image.open('drive/MyDrive/occupancy_map.png')\n",
        "occupancy_grid = (np.asarray(occupancy_map_img) > 0).astype(int)\n",
        "Node_Num = 1\n",
        "G = nx.Graph()\n",
        "G.clear()\n",
        "M = len(occupancy_grid)\n",
        "N = len(occupancy_grid[0])\n",
        "\n",
        "def heuristic(v1,v2):   # euclidean distance\n",
        "    x1,y1 = v1\n",
        "    x2,y2 = v2\n",
        "    return np.sqrt((x2-x1)**2 + (y2-y1)**2)\n",
        "\n",
        "\n",
        "def PathExists(v1,v2):\n",
        "    x1,y1 = v1; x2,y2 = v2\n",
        "    d0 = abs(x2-x1); d1 = abs(y2-y1)\n",
        "    possible = []\n",
        "    if d0 > d1:\n",
        "        possible = (np.c_[np.linspace(x1, x2, d0+1, dtype=np.int32),np.round(np.linspace(y1, y2, d0+1)).astype(np.int32)]).tolist()\n",
        "    else:\n",
        "        possible = (np.c_[np.round(np.linspace(x1, x2, d1+1)).astype(np.int32),np.linspace(y1, y2, d1+1, dtype=np.int32)]).tolist()\n",
        "\n",
        "    for i in possible:\n",
        "        if occupancy_grid[i[1],i[0]] == 0:\n",
        "            return False\n",
        "    return True\n",
        "\n",
        "def getMapDistribution(mode):\n",
        "    if mode == 1:\n",
        "        p_x = [0]*M # free space distribution across x\n",
        "        p_y = [0]*N # free spcae distribution across y\n",
        "        totalfree = 0\n",
        "        for i in range(M):\n",
        "            for j in range(N):\n",
        "                if occupancy_grid[i,j] == 1:\n",
        "                    p_x[i] += 1\n",
        "                    p_y[j] += 1\n",
        "                    totalfree +=1\n",
        "        \n",
        "        p_x[:] = [x / totalfree for x in p_x]\n",
        "        p_y[:] = [y / totalfree for y in p_y]\n",
        "        return p_x,p_y\n",
        "    elif mode == 0:\n",
        "        p_x = [1/M]*M\n",
        "        p_y = [1/N]*N\n",
        "        return p_x,p_y\n",
        "\n",
        "\n",
        "def FreeSpace(p_x,p_y):    \n",
        "    while True:\n",
        "        x_rand = np.random.choice(M,1,p=p_x)\n",
        "        y_rand = np.random.choice(N,1,p=p_y)\n",
        "\n",
        "        if occupancy_grid[x_rand,y_rand] == 1:\n",
        "            return x_rand[0],y_rand[0]\n",
        "\n",
        "\n",
        "def AddVertex(G,x,y,d_max):\n",
        "    global Node_Num\n",
        "    G.add_node(Node_Num, pos = (y,x))\n",
        "    Node_Num += 1\n",
        "\n",
        "    for i in range(1,Node_Num):\n",
        "        d = heuristic(G.nodes[i]['pos'],(y,x))\n",
        "        if G.nodes[i]['pos'] != (y,x) and d <= d_max:\n",
        "            if PathExists(G.nodes[i]['pos'], (y,x)):\n",
        "                G.add_edge(i,Node_Num-1, weight = d)\n",
        "\n",
        "\n",
        "def ConstructPRM(N,d_max):\n",
        "    global G\n",
        "    p_x,p_y = getMapDistribution(0) # 0 for Uniform, 1 for more samples from dense free space\n",
        "    for i in range(N):\n",
        "        x,y = FreeSpace(p_x,p_y)\n",
        "        AddVertex(G,x,y,d_max)\n",
        "    \n",
        "    return G\n",
        "\n",
        "def main():\n",
        "    global Node_Num\n",
        "    global G\n",
        "    Node_Num = 1\n",
        "    G = ConstructPRM(2500,75)\n",
        "\n",
        "if __name__ == \"__main__\":\n",
        "    main()"
      ]
    },
    {
      "cell_type": "code",
      "source": [
        "s = (635,140)\n",
        "g = (350,400)\n",
        "node_s = -1\n",
        "node_g = -1\n",
        "for i in range(1,Node_Num):\n",
        "        if G.nodes[i]['pos'] == (s[1],s[0]):\n",
        "            node_s = i\n",
        "        if G.nodes[i]['pos'] == (g[1],g[0]):\n",
        "            node_g = i\n",
        "\n",
        "if node_s == -1:\n",
        "    AddVertex(G,s[0],s[1],75)\n",
        "    node_s = Node_Num - 1\n",
        "\n",
        "if node_g == -1:\n",
        "    AddVertex(G,g[0],g[1],75)\n",
        "    node_g = Node_Num - 1\n",
        "\n",
        "goal_path = nx.astar_path(G,node_s,node_g)\n",
        "print(goal_path)\n",
        "edge = []\n",
        "for i in range(len(goal_path)-1):\n",
        "    edge.append((goal_path[i],goal_path[i+1]))\n",
        "plt.imshow(occupancy_map_img, cmap='gray')\n",
        "draw_networkx_edges(G,get_node_attributes(G,'pos'),edge_color='brown')\n",
        "\n",
        "draw_networkx_edges(G,get_node_attributes(G,'pos'),edgelist=edge,edge_color= 'cyan',width =2)"
      ],
      "metadata": {
        "colab": {
          "base_uri": "https://localhost:8080/",
          "height": 283
        },
        "id": "SdbDZpYQefz8",
        "outputId": "27d38b45-2242-4700-f31f-8847cabad169"
      },
      "execution_count": 16,
      "outputs": [
        {
          "output_type": "stream",
          "name": "stdout",
          "text": [
            "[2501, 1928, 1300, 2114, 2219, 1466, 1162, 657, 1494, 703, 738, 2416, 1423, 2404, 931, 1653, 2459, 1280, 2502]\n"
          ]
        },
        {
          "output_type": "execute_result",
          "data": {
            "text/plain": [
              "<matplotlib.collections.LineCollection at 0x7fad82b0ddd0>"
            ]
          },
          "metadata": {},
          "execution_count": 16
        },
        {
          "output_type": "display_data",
          "data": {
            "text/plain": [
              "<Figure size 432x288 with 1 Axes>"
            ],
            "image/png": "[encoded data removed]"
          },
          "metadata": {}
        }
      ]
    },
    {
      "cell_type": "code",
      "source": [
        "G.nodes()"
      ],
      "metadata": {
        "id": "NEoZsYQjCsml"
      },
      "execution_count": null,
      "outputs": []
    }
  ]
}